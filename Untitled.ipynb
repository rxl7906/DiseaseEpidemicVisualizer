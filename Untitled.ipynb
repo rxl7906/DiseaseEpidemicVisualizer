{
 "cells": [
  {
   "cell_type": "code",
   "execution_count": 1,
   "metadata": {
    "collapsed": true,
    "deletable": true,
    "editable": true
   },
   "outputs": [],
   "source": [
    "import pandas as pd\n",
    "import random\n",
    "\n",
    "#Iterable\n",
    "list_data = [10, 20, 30, 20, 15, 30, 45]"
   ]
  },
  {
   "cell_type": "code",
   "execution_count": 1,
   "metadata": {
    "collapsed": false
   },
   "outputs": [
    {
     "data": {
      "text/html": [
       "\n",
       "           <script>\n",
       "               \n",
       "                function vct_load_lib(url, callback){\n",
       "                      if(typeof d3 !== 'undefined' &&\n",
       "                         url === 'http://d3js.org/d3.v3.min.js'){\n",
       "                        callback()\n",
       "                      }\n",
       "                      var s = document.createElement('script');\n",
       "                      s.src = url;\n",
       "                      s.async = true;\n",
       "                      s.onreadystatechange = s.onload = callback;\n",
       "                      s.onerror = function(){\n",
       "                        console.warn(\"failed to load library \" + url);\n",
       "                        };\n",
       "                      document.getElementsByTagName(\"head\")[0].appendChild(s);\n",
       "                };\n",
       "                var vincent_event = new CustomEvent(\n",
       "                  \"vincent_libs_loaded\",\n",
       "                  {bubbles: true, cancelable: true}\n",
       "                );\n",
       "                \n",
       "               function load_all_libs(){\n",
       "                  console.log('Loading Vincent libs...')\n",
       "                  vct_load_lib('http://d3js.org/d3.v3.min.js', function(){\n",
       "                  vct_load_lib('http://d3js.org/d3.geo.projection.v0.min.js', function(){\n",
       "                  vct_load_lib('http://wrobstory.github.io/d3-cloud/d3.layout.cloud.js', function(){\n",
       "                  vct_load_lib('http://wrobstory.github.io/vega/vega.v1.3.3.js', function(){\n",
       "                  window.dispatchEvent(vincent_event);\n",
       "                  });\n",
       "                  });\n",
       "                  });\n",
       "                  });\n",
       "               };\n",
       "               if(typeof define === \"function\" && define.amd){\n",
       "                    if (window['d3'] === undefined ||\n",
       "                        window['topojson'] === undefined){\n",
       "                        require.config(\n",
       "                            {paths: {\n",
       "                              d3: 'http://d3js.org/d3.v3.min',\n",
       "                              topojson: 'http://d3js.org/topojson.v1.min'\n",
       "                              }\n",
       "                            }\n",
       "                          );\n",
       "                        require([\"d3\"], function(d3){\n",
       "                            console.log('Loading Vincent from require.js...')\n",
       "                            window.d3 = d3;\n",
       "                            require([\"topojson\"], function(topojson){\n",
       "                                window.topojson = topojson;\n",
       "                                load_all_libs();\n",
       "                            });\n",
       "                        });\n",
       "                    } else {\n",
       "                        load_all_libs();\n",
       "                    };\n",
       "               }else{\n",
       "                    console.log('Require.js not found, loading manually...')\n",
       "                    load_all_libs();\n",
       "               };\n",
       "\n",
       "           </script>"
      ],
      "text/plain": [
       "<IPython.core.display.HTML object>"
      ]
     },
     "metadata": {},
     "output_type": "display_data"
    },
    {
     "ename": "NameError",
     "evalue": "name 'multi_iter1' is not defined",
     "output_type": "error",
     "traceback": [
      "\u001b[1;31m---------------------------------------------------------------------------\u001b[0m",
      "\u001b[1;31mNameError\u001b[0m                                 Traceback (most recent call last)",
      "\u001b[1;32m<ipython-input-1-a1a5a56c2dd9>\u001b[0m in \u001b[0;36m<module>\u001b[1;34m()\u001b[0m\n\u001b[0;32m      2\u001b[0m \u001b[0mvincent\u001b[0m\u001b[1;33m.\u001b[0m\u001b[0mcore\u001b[0m\u001b[1;33m.\u001b[0m\u001b[0minitialize_notebook\u001b[0m\u001b[1;33m(\u001b[0m\u001b[1;33m)\u001b[0m\u001b[1;33m\u001b[0m\u001b[0m\n\u001b[0;32m      3\u001b[0m \u001b[1;33m\u001b[0m\u001b[0m\n\u001b[1;32m----> 4\u001b[1;33m \u001b[0mbar\u001b[0m \u001b[1;33m=\u001b[0m \u001b[0mvincent\u001b[0m\u001b[1;33m.\u001b[0m\u001b[0mBar\u001b[0m\u001b[1;33m(\u001b[0m\u001b[0mmulti_iter1\u001b[0m\u001b[1;33m[\u001b[0m\u001b[1;34m'y1'\u001b[0m\u001b[1;33m]\u001b[0m\u001b[1;33m)\u001b[0m\u001b[1;33m\u001b[0m\u001b[0m\n\u001b[0m\u001b[0;32m      5\u001b[0m \u001b[0mbar\u001b[0m\u001b[1;33m.\u001b[0m\u001b[0maxis_titles\u001b[0m\u001b[1;33m(\u001b[0m\u001b[0mx\u001b[0m\u001b[1;33m=\u001b[0m\u001b[1;34m'Index'\u001b[0m\u001b[1;33m,\u001b[0m \u001b[0my\u001b[0m\u001b[1;33m=\u001b[0m\u001b[1;34m'Value'\u001b[0m\u001b[1;33m)\u001b[0m\u001b[1;33m\u001b[0m\u001b[0m\n\u001b[0;32m      6\u001b[0m \u001b[0mbar\u001b[0m\u001b[1;33m.\u001b[0m\u001b[0mdisplay\u001b[0m\u001b[1;33m(\u001b[0m\u001b[1;33m)\u001b[0m\u001b[1;33m\u001b[0m\u001b[0m\n",
      "\u001b[1;31mNameError\u001b[0m: name 'multi_iter1' is not defined"
     ]
    }
   ],
   "source": [
    "import vincent\n",
    "vincent.core.initialize_notebook()\n",
    "\n",
    "bar = vincent.Bar(multi_iter1['y1'])\n",
    "bar.axis_titles(x='Index', y='Value')\n",
    "bar.display()"
   ]
  },
  {
   "cell_type": "code",
   "execution_count": null,
   "metadata": {
    "collapsed": false,
    "deletable": true,
    "editable": true
   },
   "outputs": [],
   "source": [
    "import vincent\n",
    "bar = vincent.Bar(list_data)"
   ]
  },
  {
   "cell_type": "code",
   "execution_count": null,
   "metadata": {
    "collapsed": true,
    "deletable": true,
    "editable": true
   },
   "outputs": [],
   "source": [
    "import vincent\n",
    "vincent.core.initialize_notebook()\n",
    "\n",
    "bar = vincent.Bar(multi_iter1['y1'])\n",
    "bar.axis_titles(x='Index', y='Value')\n",
    "bar.display()"
   ]
  },
  {
   "cell_type": "code",
   "execution_count": 3,
   "metadata": {
    "collapsed": true
   },
   "outputs": [],
   "source": [
    "import pandas as pd\n",
    "import random\n",
    "\n",
    "#Iterable\n",
    "list_data = [10, 20, 30, 20, 15, 30, 45]"
   ]
  },
  {
   "cell_type": "code",
   "execution_count": 4,
   "metadata": {
    "collapsed": false
   },
   "outputs": [
    {
     "name": "stdout",
     "output_type": "stream",
     "text": [
      "[10, 20, 30, 20, 15, 30, 45]\n"
     ]
    }
   ],
   "source": [
    "print(list_data)"
   ]
  },
  {
   "cell_type": "code",
   "execution_count": 6,
   "metadata": {
    "collapsed": true
   },
   "outputs": [],
   "source": [
    "import vincent\n",
    "bar = vincent.Bar(list_data)"
   ]
  },
  {
   "cell_type": "code",
   "execution_count": 8,
   "metadata": {
    "collapsed": true
   },
   "outputs": [],
   "source": [
    "bar.to_json('bar.json', html_out=True, html_path='bar_template.html')"
   ]
  },
  {
   "cell_type": "code",
   "execution_count": 10,
   "metadata": {
    "collapsed": false
   },
   "outputs": [
    {
     "name": "stdout",
     "output_type": "stream",
     "text": [
      "High five! You successfuly sent some data to your account on plotly. View your plot in your browser at https://plot.ly/~rxl7906/0 or inside your plot.ly account where it is named 'd3-cloropleth-map'\n"
     ]
    },
    {
     "data": {
      "text/html": [
       "<iframe id=\"igraph\" scrolling=\"no\" style=\"border:none;\" seamless=\"seamless\" src=\"https://plot.ly/~rxl7906/0.embed\" height=\"525px\" width=\"100%\"></iframe>"
      ],
      "text/plain": [
       "<plotly.tools.PlotlyDisplay object>"
      ]
     },
     "execution_count": 10,
     "metadata": {},
     "output_type": "execute_result"
    }
   ],
   "source": [
    "import plotly.plotly as py\n",
    "import pandas as pd\n",
    "\n",
    "df = pd.read_csv('https://raw.githubusercontent.com/plotly/datasets/master/2011_us_ag_exports.csv')\n",
    "\n",
    "for col in df.columns:\n",
    "    df[col] = df[col].astype(str)\n",
    "\n",
    "scl = [[0.0, 'rgb(242,240,247)'],[0.2, 'rgb(218,218,235)'],[0.4, 'rgb(188,189,220)'],\\\n",
    "            [0.6, 'rgb(158,154,200)'],[0.8, 'rgb(117,107,177)'],[1.0, 'rgb(84,39,143)']]\n",
    "\n",
    "df['text'] = df['state'] + '<br>' +\\\n",
    "    'Beef '+df['beef']+' Dairy '+df['dairy']+'<br>'+\\\n",
    "    'Fruits '+df['total fruits']+' Veggies ' + df['total veggies']+'<br>'+\\\n",
    "    'Wheat '+df['wheat']+' Corn '+df['corn']\n",
    "\n",
    "data = [ dict(\n",
    "        type='choropleth',\n",
    "        colorscale = scl,\n",
    "        autocolorscale = False,\n",
    "        locations = df['code'],\n",
    "        z = df['total exports'].astype(float),\n",
    "        locationmode = 'USA-states',\n",
    "        text = df['text'],\n",
    "        marker = dict(\n",
    "            line = dict (\n",
    "                color = 'rgb(255,255,255)',\n",
    "                width = 2\n",
    "            ) ),\n",
    "        colorbar = dict(\n",
    "            title = \"Millions USD\")\n",
    "        ) ]\n",
    "\n",
    "layout = dict(\n",
    "        title = '2011 US Agriculture Exports by State<br>(Hover for breakdown)',\n",
    "        geo = dict(\n",
    "            scope='usa',\n",
    "            projection=dict( type='albers usa' ),\n",
    "            showlakes = True,\n",
    "            lakecolor = 'rgb(255, 255, 255)'),\n",
    "             )\n",
    "    \n",
    "fig = dict( data=data, layout=layout )\n",
    "py.iplot( fig, filename='d3-cloropleth-map' )"
   ]
  },
  {
   "cell_type": "code",
   "execution_count": 88,
   "metadata": {
    "collapsed": false
   },
   "outputs": [
    {
     "name": "stdout",
     "output_type": "stream",
     "text": [
      "value\n",
      "state\n",
      "High five! You successfuly sent some data to your account on plotly. View your plot in your browser at https://plot.ly/~rxl7906c205/0 or inside your plot.ly account where it is named 'd3-cloropleth-map'\n",
      "value\n",
      "state\n",
      "High five! You successfuly sent some data to your account on plotly. View your plot in your browser at https://plot.ly/~rxl7906c205/0 or inside your plot.ly account where it is named 'd3-cloropleth-map'\n",
      "value\n",
      "state\n",
      "High five! You successfuly sent some data to your account on plotly. View your plot in your browser at https://plot.ly/~rxl7906c205/0 or inside your plot.ly account where it is named 'd3-cloropleth-map'\n",
      "value\n",
      "state\n",
      "High five! You successfuly sent some data to your account on plotly. View your plot in your browser at https://plot.ly/~rxl7906c205/0 or inside your plot.ly account where it is named 'd3-cloropleth-map'\n",
      "value\n",
      "state\n",
      "High five! You successfuly sent some data to your account on plotly. View your plot in your browser at https://plot.ly/~rxl7906c205/0 or inside your plot.ly account where it is named 'd3-cloropleth-map'\n",
      "value\n",
      "state\n",
      "High five! You successfuly sent some data to your account on plotly. View your plot in your browser at https://plot.ly/~rxl7906c205/0 or inside your plot.ly account where it is named 'd3-cloropleth-map'\n",
      "value\n",
      "state\n",
      "High five! You successfuly sent some data to your account on plotly. View your plot in your browser at https://plot.ly/~rxl7906c205/0 or inside your plot.ly account where it is named 'd3-cloropleth-map'\n",
      "value\n",
      "state\n",
      "High five! You successfuly sent some data to your account on plotly. View your plot in your browser at https://plot.ly/~rxl7906c205/0 or inside your plot.ly account where it is named 'd3-cloropleth-map'\n",
      "value\n",
      "state\n",
      "High five! You successfuly sent some data to your account on plotly. View your plot in your browser at https://plot.ly/~rxl7906c205/0 or inside your plot.ly account where it is named 'd3-cloropleth-map'\n",
      "value\n",
      "state\n",
      "High five! You successfuly sent some data to your account on plotly. View your plot in your browser at https://plot.ly/~rxl7906c205/0 or inside your plot.ly account where it is named 'd3-cloropleth-map'\n",
      "value\n",
      "state\n",
      "High five! You successfuly sent some data to your account on plotly. View your plot in your browser at https://plot.ly/~rxl7906c205/0 or inside your plot.ly account where it is named 'd3-cloropleth-map'\n",
      "value\n",
      "state\n",
      "High five! You successfuly sent some data to your account on plotly. View your plot in your browser at https://plot.ly/~rxl7906c205/0 or inside your plot.ly account where it is named 'd3-cloropleth-map'\n",
      "value\n",
      "state\n",
      "High five! You successfuly sent some data to your account on plotly. View your plot in your browser at https://plot.ly/~rxl7906c205/0 or inside your plot.ly account where it is named 'd3-cloropleth-map'\n",
      "value\n",
      "state\n",
      "High five! You successfuly sent some data to your account on plotly. View your plot in your browser at https://plot.ly/~rxl7906c205/0 or inside your plot.ly account where it is named 'd3-cloropleth-map'\n",
      "value\n",
      "state\n",
      "High five! You successfuly sent some data to your account on plotly. View your plot in your browser at https://plot.ly/~rxl7906c205/0 or inside your plot.ly account where it is named 'd3-cloropleth-map'\n",
      "value\n",
      "state\n",
      "High five! You successfuly sent some data to your account on plotly. View your plot in your browser at https://plot.ly/~rxl7906c205/0 or inside your plot.ly account where it is named 'd3-cloropleth-map'\n",
      "value\n",
      "state\n",
      "High five! You successfuly sent some data to your account on plotly. View your plot in your browser at https://plot.ly/~rxl7906c205/0 or inside your plot.ly account where it is named 'd3-cloropleth-map'\n",
      "value\n",
      "state\n",
      "High five! You successfuly sent some data to your account on plotly. View your plot in your browser at https://plot.ly/~rxl7906c205/0 or inside your plot.ly account where it is named 'd3-cloropleth-map'\n",
      "value\n",
      "state\n",
      "High five! You successfuly sent some data to your account on plotly. View your plot in your browser at https://plot.ly/~rxl7906c205/0 or inside your plot.ly account where it is named 'd3-cloropleth-map'\n",
      "value\n",
      "state\n",
      "High five! You successfuly sent some data to your account on plotly. View your plot in your browser at https://plot.ly/~rxl7906c205/0 or inside your plot.ly account where it is named 'd3-cloropleth-map'\n",
      "value\n",
      "state\n",
      "High five! You successfuly sent some data to your account on plotly. View your plot in your browser at https://plot.ly/~rxl7906c205/0 or inside your plot.ly account where it is named 'd3-cloropleth-map'\n",
      "value\n",
      "state\n",
      "High five! You successfuly sent some data to your account on plotly. View your plot in your browser at https://plot.ly/~rxl7906c205/0 or inside your plot.ly account where it is named 'd3-cloropleth-map'\n",
      "value\n",
      "state\n",
      "High five! You successfuly sent some data to your account on plotly. View your plot in your browser at https://plot.ly/~rxl7906c205/0 or inside your plot.ly account where it is named 'd3-cloropleth-map'\n",
      "value\n",
      "state\n",
      "High five! You successfuly sent some data to your account on plotly. View your plot in your browser at https://plot.ly/~rxl7906c205/0 or inside your plot.ly account where it is named 'd3-cloropleth-map'\n",
      "value\n",
      "state\n",
      "High five! You successfuly sent some data to your account on plotly. View your plot in your browser at https://plot.ly/~rxl7906c205/0 or inside your plot.ly account where it is named 'd3-cloropleth-map'\n",
      "value\n",
      "state\n",
      "High five! You successfuly sent some data to your account on plotly. View your plot in your browser at https://plot.ly/~rxl7906c205/0 or inside your plot.ly account where it is named 'd3-cloropleth-map'\n",
      "value\n",
      "state\n",
      "High five! You successfuly sent some data to your account on plotly. View your plot in your browser at https://plot.ly/~rxl7906c205/0 or inside your plot.ly account where it is named 'd3-cloropleth-map'\n",
      "value\n",
      "state\n",
      "High five! You successfuly sent some data to your account on plotly. View your plot in your browser at https://plot.ly/~rxl7906c205/0 or inside your plot.ly account where it is named 'd3-cloropleth-map'\n",
      "value\n",
      "state\n",
      "High five! You successfuly sent some data to your account on plotly. View your plot in your browser at https://plot.ly/~rxl7906c205/0 or inside your plot.ly account where it is named 'd3-cloropleth-map'\n",
      "value\n",
      "state\n",
      "High five! You successfuly sent some data to your account on plotly. View your plot in your browser at https://plot.ly/~rxl7906c205/0 or inside your plot.ly account where it is named 'd3-cloropleth-map'\n",
      "value\n",
      "state\n"
     ]
    },
    {
     "ename": "PlotlyRequestError",
     "evalue": "Hey there! You've hit one of our API request limits. \n\nTo get unlimited API calls(10,000/day), please upgrade to a paid plan. \n\nUPGRADE HERE: https://goo.gl/i7glmM \n\nThanks for using Plotly! Happy Plotting!",
     "output_type": "error",
     "traceback": [
      "\u001b[1;31m---------------------------------------------------------------------------\u001b[0m",
      "\u001b[1;31mPlotlyRequestError\u001b[0m                        Traceback (most recent call last)",
      "\u001b[1;32m<ipython-input-88-8f0cbeadcf85>\u001b[0m in \u001b[0;36m<module>\u001b[1;34m()\u001b[0m\n\u001b[0;32m    159\u001b[0m             \u001b[1;31m# if there's a new date; write out contents of dict to a csv file\u001b[0m\u001b[1;33m\u001b[0m\u001b[1;33m\u001b[0m\u001b[0m\n\u001b[0;32m    160\u001b[0m             \u001b[0mwriteToCSV\u001b[0m\u001b[1;33m(\u001b[0m\u001b[0mstates\u001b[0m\u001b[1;33m)\u001b[0m\u001b[1;33m\u001b[0m\u001b[0m\n\u001b[1;32m--> 161\u001b[1;33m             \u001b[0mproduceJPG\u001b[0m\u001b[1;33m(\u001b[0m\u001b[0mcurrDate\u001b[0m\u001b[1;33m)\u001b[0m\u001b[1;33m\u001b[0m\u001b[0m\n\u001b[0m\u001b[0;32m    162\u001b[0m             \u001b[0mremoveCSV\u001b[0m\u001b[1;33m(\u001b[0m\u001b[1;33m)\u001b[0m\u001b[1;33m\u001b[0m\u001b[0m\n\u001b[0;32m    163\u001b[0m             \u001b[1;31m# make states dictionary empty\u001b[0m\u001b[1;33m\u001b[0m\u001b[1;33m\u001b[0m\u001b[0m\n",
      "\u001b[1;32m<ipython-input-88-8f0cbeadcf85>\u001b[0m in \u001b[0;36mproduceJPG\u001b[1;34m(currDate)\u001b[0m\n\u001b[0;32m    127\u001b[0m \u001b[1;33m\u001b[0m\u001b[0m\n\u001b[0;32m    128\u001b[0m     \u001b[0mfig\u001b[0m \u001b[1;33m=\u001b[0m \u001b[0mdict\u001b[0m\u001b[1;33m(\u001b[0m \u001b[0mdata\u001b[0m\u001b[1;33m=\u001b[0m\u001b[0mdata\u001b[0m\u001b[1;33m,\u001b[0m \u001b[0mlayout\u001b[0m\u001b[1;33m=\u001b[0m\u001b[0mlayout\u001b[0m \u001b[1;33m)\u001b[0m\u001b[1;33m\u001b[0m\u001b[0m\n\u001b[1;32m--> 129\u001b[1;33m     \u001b[0mpy\u001b[0m\u001b[1;33m.\u001b[0m\u001b[0miplot\u001b[0m\u001b[1;33m(\u001b[0m \u001b[0mfig\u001b[0m\u001b[1;33m,\u001b[0m \u001b[0mfilename\u001b[0m\u001b[1;33m=\u001b[0m\u001b[1;34m'd3-cloropleth-map'\u001b[0m \u001b[1;33m)\u001b[0m\u001b[1;33m\u001b[0m\u001b[0m\n\u001b[0m\u001b[0;32m    130\u001b[0m \u001b[1;33m\u001b[0m\u001b[0m\n\u001b[0;32m    131\u001b[0m     \u001b[1;31m#py.image.save_as(fig, filename=currDate+'.png')\u001b[0m\u001b[1;33m\u001b[0m\u001b[1;33m\u001b[0m\u001b[0m\n",
      "\u001b[1;32mc:\\python27\\lib\\site-packages\\plotly\\plotly\\plotly.pyc\u001b[0m in \u001b[0;36miplot\u001b[1;34m(figure_or_data, **plot_options)\u001b[0m\n\u001b[0;32m    132\u001b[0m     \u001b[1;32mif\u001b[0m \u001b[1;34m'auto_open'\u001b[0m \u001b[1;32mnot\u001b[0m \u001b[1;32min\u001b[0m \u001b[0mplot_options\u001b[0m\u001b[1;33m:\u001b[0m\u001b[1;33m\u001b[0m\u001b[0m\n\u001b[0;32m    133\u001b[0m         \u001b[0mplot_options\u001b[0m\u001b[1;33m[\u001b[0m\u001b[1;34m'auto_open'\u001b[0m\u001b[1;33m]\u001b[0m \u001b[1;33m=\u001b[0m \u001b[0mFalse\u001b[0m\u001b[1;33m\u001b[0m\u001b[0m\n\u001b[1;32m--> 134\u001b[1;33m     \u001b[0murl\u001b[0m \u001b[1;33m=\u001b[0m \u001b[0mplot\u001b[0m\u001b[1;33m(\u001b[0m\u001b[0mfigure_or_data\u001b[0m\u001b[1;33m,\u001b[0m \u001b[1;33m**\u001b[0m\u001b[0mplot_options\u001b[0m\u001b[1;33m)\u001b[0m\u001b[1;33m\u001b[0m\u001b[0m\n\u001b[0m\u001b[0;32m    135\u001b[0m \u001b[1;33m\u001b[0m\u001b[0m\n\u001b[0;32m    136\u001b[0m     \u001b[1;32mif\u001b[0m \u001b[0misinstance\u001b[0m\u001b[1;33m(\u001b[0m\u001b[0mfigure_or_data\u001b[0m\u001b[1;33m,\u001b[0m \u001b[0mdict\u001b[0m\u001b[1;33m)\u001b[0m\u001b[1;33m:\u001b[0m\u001b[1;33m\u001b[0m\u001b[0m\n",
      "\u001b[1;32mc:\\python27\\lib\\site-packages\\plotly\\plotly\\plotly.pyc\u001b[0m in \u001b[0;36mplot\u001b[1;34m(figure_or_data, validate, **plot_options)\u001b[0m\n\u001b[0;32m    225\u001b[0m     \u001b[0mdata\u001b[0m \u001b[1;33m=\u001b[0m \u001b[0mfig\u001b[0m\u001b[1;33m.\u001b[0m\u001b[0mget\u001b[0m\u001b[1;33m(\u001b[0m\u001b[1;34m'data'\u001b[0m\u001b[1;33m,\u001b[0m \u001b[1;33m[\u001b[0m\u001b[1;33m]\u001b[0m\u001b[1;33m)\u001b[0m\u001b[1;33m\u001b[0m\u001b[0m\n\u001b[0;32m    226\u001b[0m     \u001b[0mplot_options\u001b[0m\u001b[1;33m[\u001b[0m\u001b[1;34m'layout'\u001b[0m\u001b[1;33m]\u001b[0m \u001b[1;33m=\u001b[0m \u001b[0mfig\u001b[0m\u001b[1;33m.\u001b[0m\u001b[0mget\u001b[0m\u001b[1;33m(\u001b[0m\u001b[1;34m'layout'\u001b[0m\u001b[1;33m,\u001b[0m \u001b[1;33m{\u001b[0m\u001b[1;33m}\u001b[0m\u001b[1;33m)\u001b[0m\u001b[1;33m\u001b[0m\u001b[0m\n\u001b[1;32m--> 227\u001b[1;33m     \u001b[0mresponse\u001b[0m \u001b[1;33m=\u001b[0m \u001b[0mv1\u001b[0m\u001b[1;33m.\u001b[0m\u001b[0mclientresp\u001b[0m\u001b[1;33m(\u001b[0m\u001b[0mdata\u001b[0m\u001b[1;33m,\u001b[0m \u001b[1;33m**\u001b[0m\u001b[0mplot_options\u001b[0m\u001b[1;33m)\u001b[0m\u001b[1;33m\u001b[0m\u001b[0m\n\u001b[0m\u001b[0;32m    228\u001b[0m \u001b[1;33m\u001b[0m\u001b[0m\n\u001b[0;32m    229\u001b[0m     \u001b[1;31m# Check if the url needs a secret key\u001b[0m\u001b[1;33m\u001b[0m\u001b[1;33m\u001b[0m\u001b[0m\n",
      "\u001b[1;32mc:\\python27\\lib\\site-packages\\plotly\\api\\v1\\clientresp.pyc\u001b[0m in \u001b[0;36mclientresp\u001b[1;34m(data, **kwargs)\u001b[0m\n\u001b[0;32m     33\u001b[0m \u001b[1;33m\u001b[0m\u001b[0m\n\u001b[0;32m     34\u001b[0m     \u001b[0murl\u001b[0m \u001b[1;33m=\u001b[0m \u001b[1;34m'{plotly_domain}/clientresp'\u001b[0m\u001b[1;33m.\u001b[0m\u001b[0mformat\u001b[0m\u001b[1;33m(\u001b[0m\u001b[1;33m**\u001b[0m\u001b[0mcfg\u001b[0m\u001b[1;33m)\u001b[0m\u001b[1;33m\u001b[0m\u001b[0m\n\u001b[1;32m---> 35\u001b[1;33m     \u001b[0mresponse\u001b[0m \u001b[1;33m=\u001b[0m \u001b[0mrequest\u001b[0m\u001b[1;33m(\u001b[0m\u001b[1;34m'post'\u001b[0m\u001b[1;33m,\u001b[0m \u001b[0murl\u001b[0m\u001b[1;33m,\u001b[0m \u001b[0mdata\u001b[0m\u001b[1;33m=\u001b[0m\u001b[0mpayload\u001b[0m\u001b[1;33m)\u001b[0m\u001b[1;33m\u001b[0m\u001b[0m\n\u001b[0m\u001b[0;32m     36\u001b[0m \u001b[1;33m\u001b[0m\u001b[0m\n\u001b[0;32m     37\u001b[0m     \u001b[1;31m# Old functionality, just keeping it around.\u001b[0m\u001b[1;33m\u001b[0m\u001b[1;33m\u001b[0m\u001b[0m\n",
      "\u001b[1;32mc:\\python27\\lib\\site-packages\\plotly\\api\\v1\\utils.pyc\u001b[0m in \u001b[0;36mrequest\u001b[1;34m(method, url, **kwargs)\u001b[0m\n\u001b[0;32m     84\u001b[0m         \u001b[0mcontent\u001b[0m \u001b[1;33m=\u001b[0m \u001b[0mresponse\u001b[0m\u001b[1;33m.\u001b[0m\u001b[0mcontent\u001b[0m \u001b[1;32mif\u001b[0m \u001b[0mresponse\u001b[0m \u001b[1;32melse\u001b[0m \u001b[1;34m'No content'\u001b[0m\u001b[1;33m\u001b[0m\u001b[0m\n\u001b[0;32m     85\u001b[0m         \u001b[1;32mraise\u001b[0m \u001b[0mexceptions\u001b[0m\u001b[1;33m.\u001b[0m\u001b[0mPlotlyRequestError\u001b[0m\u001b[1;33m(\u001b[0m\u001b[0mmessage\u001b[0m\u001b[1;33m,\u001b[0m \u001b[0mstatus_code\u001b[0m\u001b[1;33m,\u001b[0m \u001b[0mcontent\u001b[0m\u001b[1;33m)\u001b[0m\u001b[1;33m\u001b[0m\u001b[0m\n\u001b[1;32m---> 86\u001b[1;33m     \u001b[0mvalidate_response\u001b[0m\u001b[1;33m(\u001b[0m\u001b[0mresponse\u001b[0m\u001b[1;33m)\u001b[0m\u001b[1;33m\u001b[0m\u001b[0m\n\u001b[0m\u001b[0;32m     87\u001b[0m     \u001b[1;32mreturn\u001b[0m \u001b[0mresponse\u001b[0m\u001b[1;33m\u001b[0m\u001b[0m\n",
      "\u001b[1;32mc:\\python27\\lib\\site-packages\\plotly\\api\\v1\\utils.pyc\u001b[0m in \u001b[0;36mvalidate_response\u001b[1;34m(response)\u001b[0m\n\u001b[0;32m     36\u001b[0m         \u001b[0mmessage\u001b[0m \u001b[1;33m=\u001b[0m \u001b[0mcontent\u001b[0m \u001b[1;32mif\u001b[0m \u001b[0mcontent\u001b[0m \u001b[1;32melse\u001b[0m \u001b[1;34m'No Content'\u001b[0m\u001b[1;33m\u001b[0m\u001b[0m\n\u001b[0;32m     37\u001b[0m \u001b[1;33m\u001b[0m\u001b[0m\n\u001b[1;32m---> 38\u001b[1;33m     \u001b[1;32mraise\u001b[0m \u001b[0mexceptions\u001b[0m\u001b[1;33m.\u001b[0m\u001b[0mPlotlyRequestError\u001b[0m\u001b[1;33m(\u001b[0m\u001b[0mmessage\u001b[0m\u001b[1;33m,\u001b[0m \u001b[0mstatus_code\u001b[0m\u001b[1;33m,\u001b[0m \u001b[0mcontent\u001b[0m\u001b[1;33m)\u001b[0m\u001b[1;33m\u001b[0m\u001b[0m\n\u001b[0m\u001b[0;32m     39\u001b[0m \u001b[1;33m\u001b[0m\u001b[0m\n\u001b[0;32m     40\u001b[0m \u001b[1;33m\u001b[0m\u001b[0m\n",
      "\u001b[1;31mPlotlyRequestError\u001b[0m: Hey there! You've hit one of our API request limits. \n\nTo get unlimited API calls(10,000/day), please upgrade to a paid plan. \n\nUPGRADE HERE: https://goo.gl/i7glmM \n\nThanks for using Plotly! Happy Plotting!"
     ]
    }
   ],
   "source": [
    "import csv\n",
    "import sys\n",
    "import os\n",
    "import plotly.plotly as py\n",
    "import pandas as pd\n",
    "from IPython.display import Image\n",
    "\n",
    "\"\"\"\n",
    "# go thru us_zika.csv file\n",
    "us_zika = open('us_zika.csv')\n",
    "csv_us_zika = csv.reader(us_zika)\n",
    "\n",
    "# dictionary key: state -> value: state abbrev\n",
    "states = {'Alabama': 'AL', 'Alaska': 'AK', 'Arizona': 'AZ', 'Arkansas': 'AK', 'California': 'CA', 'Colorado': 'CO', 'Connecticut': 'CT', \n",
    "          'Delaware': 'DE', 'Florida': 'FL', 'Georgia': 'GA', 'Hawaii': 'HI', 'Idaho': 'ID', 'Illinois': 'IL', 'Indiana': 'IN', 'Iowa': 'IA', \n",
    "          'Kansas': 'KS', 'Kentucky': 'KY', 'Louisiana': 'LA', 'Maine': 'ME', 'Maryland': 'MD', 'Massachusetts': 'MA', 'Michigan': 'MI', \n",
    "          'Michigan': 'MI', 'Minnesota': 'MN', 'Mississippi': 'MS', 'Missouri': 'MO', 'Montana': 'MT', 'Nebraska': 'NE', 'Nevada': 'NV', \n",
    "         'New Hampshire': 'NH', 'New Jersey': 'NJ', 'New York': 'NY', 'North Carolina': 'NC', 'North Dakota': 'ND', 'Ohio': 'OH', \n",
    "         'Oklahoma': 'OK', 'Oregon': 'OR', 'Pennsylvania': 'PA', 'Rhode Island': 'RI', 'South Carolina': 'SC', 'South Dakota': 'SD', \n",
    "         'Tennessee': 'TN', 'Texas': 'TX', 'Utah': 'UT', 'Vermont': 'VT', 'Virginia': 'VA', 'Washington': 'WA', 'West Virginia': 'WV',\n",
    "         'Wisconsin': 'WI', 'Wyoming': 'WY' }\n",
    "\n",
    "# make new csv with state abbrev\n",
    "with open('us_zika_with_abbrev.csv', 'wb') as csvfile:\n",
    "    fieldnames = ['report_date', 'location', 'location_type',\n",
    "                 'value', 'unit', 'state']\n",
    "    writer = csv.DictWriter(csvfile, fieldnames=fieldnames)\n",
    "    \n",
    "    # add row entries\n",
    "    firstLine = True\n",
    "    # for each line in the location, get the string after \"-\" which is the state\n",
    "    for row in csv_us_zika:\n",
    "        if firstLine:\n",
    "            firstLine = False\n",
    "            continue\n",
    "        else:\n",
    "            # get the 2nd row element and get the state\n",
    "            if(len(row[1].split('-')) > 1):\n",
    "                state = row[1].split('-')[1]\n",
    "                # add state abbrev\n",
    "                if state in states:\n",
    "                    writer.writerow({'report_date': row[0], 'location': row[1], 'location_type': row[2],\n",
    "                     'value': row[3], 'unit': row[4], 'state': states[state]})\n",
    "                #else:\n",
    "                #    writer.writerow({'report_date': row[0], 'location': row[1], 'location_type': row[2], 'data_field': row[3], \n",
    "                #             'data_field_code': row[4], 'time_period': row[5], 'time_period_type': row[6],\n",
    "                #     'value': row[7], 'unit': row[8]})\n",
    "\"\"\"\n",
    "\n",
    "\"\"\"\n",
    "# read thru csv file\n",
    "us_zika = open('us_zika_abbrev_one_date.csv')\n",
    "csv_us_zika = csv.reader(us_zika)\n",
    "\n",
    "# create dictionary for each state (key: state abbrev ; value: number of cases)\n",
    "states = {}\n",
    "\n",
    "# loop thru each line in csv file\n",
    "firstLine = True\n",
    "for row in csv_us_zika:\n",
    "    if firstLine:\n",
    "            firstLine = False\n",
    "            continue\n",
    "    else:\n",
    "        if row[3] in states: # update key in dict\n",
    "            states[row[3]] = int(states[row[3]]) + int(row[2])\n",
    "        else: # add new key to dict\n",
    "            states[row[3]] = int(row[2])\n",
    "\n",
    "# dictionary created; loop thru dict and write to a new csv\n",
    "with open('us_zika_test.csv', 'wb') as csvfile:\n",
    "    fieldnames = ['value', 'state']\n",
    "    writer = csv.DictWriter(csvfile, fieldnames=fieldnames)\n",
    "    \n",
    "    # loop thru dict\n",
    "    for key in states:\n",
    "        writer.writerow({'value': states[key], 'state': key})\n",
    "\n",
    "\"\"\"\n",
    "count = 1\n",
    "def writeToCSV(states):\n",
    "    with open('us_zika_single_date.csv', 'wb') as csvfile:\n",
    "        fieldnames = ['value', 'state']\n",
    "        writer = csv.DictWriter(csvfile, fieldnames=fieldnames)\n",
    "\n",
    "        writer.writeheader()\n",
    "        # loop thru dict\n",
    "        for key in states:\n",
    "            writer.writerow({'value': states[key], 'state': key})\n",
    "\n",
    "def removeCSV():\n",
    "    os.remove(\"us_zika_single_date.csv\")\n",
    "\n",
    "def produceJPG(currDate):\n",
    "    df = pd.read_csv('us_zika_single_date.csv')\n",
    "\n",
    "    for col in df.columns:\n",
    "        print col\n",
    "        df[col] = df[col].astype(str)\n",
    "\n",
    "    scl = [[0.0, 'rgb(242,240,247)'],[0.2, 'rgb(218,218,235)'],[0.4, 'rgb(188,189,220)'],\\\n",
    "                [0.6, 'rgb(158,154,200)'],[0.8, 'rgb(117,107,177)'],[1.0, 'rgb(84,39,143)']]\n",
    "\n",
    "    data = [ dict(\n",
    "            type='choropleth',\n",
    "            colorscale = scl,\n",
    "            autocolorscale = False,\n",
    "            locations = df['state'],\n",
    "            z = df['value'].astype(int),\n",
    "            locationmode = 'USA-states',\n",
    "            marker = dict(\n",
    "                line = dict (\n",
    "                    color = 'rgb(255,255,255)',\n",
    "                    width = 2\n",
    "                ) ),\n",
    "            colorbar = dict(\n",
    "                title = \"Cases\")\n",
    "            ) ]\n",
    "\n",
    "    layout = dict(\n",
    "            title = 'Zika Virus Epidemic Spread within the US '+currDate,\n",
    "            geo = dict(\n",
    "                scope='usa',\n",
    "                projection=dict( type='albers usa' ),\n",
    "                showlakes = True,\n",
    "                lakecolor = 'rgb(255, 255, 255)'),\n",
    "                 )\n",
    "\n",
    "    fig = dict( data=data, layout=layout )\n",
    "    py.iplot( fig, filename='d3-cloropleth-map' )\n",
    "\n",
    "    #py.image.save_as(fig, filename=currDate+'.png')\n",
    "    py.image.save_as(fig, filename='a-simple-plot.png')\n",
    "\n",
    "# csv has 3 columns: report_date, value, state\n",
    "# read thru csv in \n",
    "us_zika = open('us_zika_with_abbrev.csv')\n",
    "csv_us_zika = csv.reader(us_zika)\n",
    "\n",
    "# Goal is to combine data with travel/local\n",
    "\n",
    "# loop thru each line in csv file\n",
    "firstLine = True\n",
    "# create a new dictionary everytime a new date is seen\n",
    "currDate = '2/24/2016'\n",
    "states = {}\n",
    "for row in csv_us_zika:\n",
    "    if firstLine:\n",
    "            firstLine = False\n",
    "            continue\n",
    "    else:\n",
    "        # check the date\n",
    "        if row[0] == currDate: # on the current date\n",
    "            # check if the state exists in dictionary\n",
    "            if row[2] in states: # if state exists in dictionary; update value\n",
    "                states[row[2]] = int(states[row[2]]) + int(row[1])\n",
    "            else: # if state doesn't exist in dictionary; add it\n",
    "                states[row[2]] = int(row[1])\n",
    "        else: # there is a new date\n",
    "            # if there's a new date; write out contents of dict to a csv file\n",
    "            writeToCSV(states)\n",
    "            produceJPG(currDate)\n",
    "            removeCSV()\n",
    "            # make states dictionary empty\n",
    "            states.clear()\n",
    "            # clear the csv file\n",
    "            clearCSV()\n",
    "            # set new currDate\n",
    "            currDate = row[0]\n",
    "            # add the first new data\n",
    "            states[row[2]] = int(row[1])\n",
    "\n"
   ]
  },
  {
   "cell_type": "code",
   "execution_count": null,
   "metadata": {
    "collapsed": true
   },
   "outputs": [],
   "source": []
  },
  {
   "cell_type": "code",
   "execution_count": null,
   "metadata": {
    "collapsed": true
   },
   "outputs": [],
   "source": []
  },
  {
   "cell_type": "code",
   "execution_count": null,
   "metadata": {
    "collapsed": true
   },
   "outputs": [],
   "source": []
  }
 ],
 "metadata": {
  "kernelspec": {
   "display_name": "Python 2",
   "language": "python",
   "name": "python2"
  },
  "language_info": {
   "codemirror_mode": {
    "name": "ipython",
    "version": 2
   },
   "file_extension": ".py",
   "mimetype": "text/x-python",
   "name": "python",
   "nbconvert_exporter": "python",
   "pygments_lexer": "ipython2",
   "version": "2.7.13"
  }
 },
 "nbformat": 4,
 "nbformat_minor": 2
}
